{
  "nbformat": 4,
  "nbformat_minor": 0,
  "metadata": {
    "kernelspec": {
      "display_name": "Python 3",
      "language": "python",
      "name": "python3"
    },
    "language_info": {
      "codemirror_mode": {
        "name": "ipython",
        "version": 3
      },
      "file_extension": ".py",
      "mimetype": "text/x-python",
      "name": "python",
      "nbconvert_exporter": "python",
      "pygments_lexer": "ipython3",
      "version": "3.7.4"
    },
    "colab": {
      "name": "SJMalakiya_AI4D_Zindi_Competition.ipynb",
      "provenance": [],
      "toc_visible": true,
      "include_colab_link": true
    }
  },
  "cells": [
    {
      "cell_type": "markdown",
      "metadata": {
        "id": "view-in-github",
        "colab_type": "text"
      },
      "source": [
        "<a href=\"https://colab.research.google.com/github/SiboneloJunior/AI4D-Predict-the-Global-Spread-of-COVID-19/blob/master/SJMalakiya_AI4D_Zindi_Competition.ipynb\" target=\"_parent\"><img src=\"https://colab.research.google.com/assets/colab-badge.svg\" alt=\"Open In Colab\"/></a>"
      ]
    },
    {
      "cell_type": "code",
      "metadata": {
        "id": "FRQoaDPNhEui",
        "colab_type": "code",
        "colab": {}
      },
      "source": [
        "# Importing packages\n",
        "\n",
        "import numpy as np\n",
        "import pandas as pd\n",
        "import matplotlib.pyplot as plt\n",
        "import math\n",
        "from sklearn.linear_model import LinearRegression\n",
        "from math import sqrt"
      ],
      "execution_count": 0,
      "outputs": []
    },
    {
      "cell_type": "markdown",
      "metadata": {
        "id": "CQZqlvMMitVG",
        "colab_type": "text"
      },
      "source": [
        "# Introduction"
      ]
    },
    {
      "cell_type": "markdown",
      "metadata": {
        "id": "_9yXzWnz3C2H",
        "colab_type": "text"
      },
      "source": [
        "##### **Problem Statement**\n",
        "\n",
        "The objective of this challenge is to build an epidemiological model that predicts the spread of COVID-19 throughout the world. The target variable is the cumulative number of deaths caused by COVID-19 in each country by each date.\n"
      ]
    },
    {
      "cell_type": "markdown",
      "metadata": {
        "id": "XLVL1uvb3bfy",
        "colab_type": "text"
      },
      "source": [
        "##### **Logic Behind The Linear Model**\n",
        "\n",
        "The typical growth curve of any epidemic a follows logistic curve with 3 phases\n",
        "- Slow/Flat Start\n",
        "- Exponential Growth\n",
        "- Flatting Curve ( Virus runs out of new victims )\n",
        "\n",
        "However to fit a linear model , We need to intellegently modify the curve to approximate a linear curve...this is illustrated below\n",
        "\n",
        "Fitting Linear Model on a Natural Logistic Curve\n",
        "\n",
        "\n",
        "![alt text](https://drive.google.com/uc?id=1g5tw5pzv7kyLCa3y_611t89OT8XzDGbH)\n",
        "\n",
        "\n",
        "Fitting Linear model on a Pre-Processed Logistic curve ( All rows where cases == 0 removed )\n",
        "\n",
        "![alt text](https://drive.google.com/uc?id=1TwE-jHGW-9V8huyKXLkwOp-xg9EOScah)\n",
        "\n",
        "\n",
        "Hence The Spread/Growth of the Covid-19 Virus can be approximated with a linear fit performed in such manner\n",
        "\n",
        "\n",
        "*   Use Day Count vs Cases on the training dataset to find the linear coefficients Per country\n",
        "*   Use those linear coefficients to predict cases for any given day ( Thus can be extended to June for the competition )\n",
        "*   Furthermore use ( Day Count + Cases ) vs Target to fit a multivariable linear model, hence calculating the coefficents and intercepts of the model\n",
        "*    Then use the first coefficients to predict 'cases per date' on the given submission file , then using the predicted cases + day count , use the second coefficients + intercepts to predict the target variable.\n",
        "\n",
        "\n",
        "Note : These steps are also re-iterated on code blocks for further clarity\n",
        "\n",
        "\n",
        "\n",
        "\n",
        "\n"
      ]
    },
    {
      "cell_type": "markdown",
      "metadata": {
        "id": "_fe9LGlrhXKg",
        "colab_type": "text"
      },
      "source": [
        "# Importing Datasets\n"
      ]
    },
    {
      "cell_type": "markdown",
      "metadata": {
        "id": "bCfBiqj5htsk",
        "colab_type": "text"
      },
      "source": [
        "\n",
        "\n",
        "*   Training dataset was generated from Covid-19-Data-Prep.ipynb Notebook ( Found on the Repository )\n",
        "*   The set contains data from 22 January to 17 April 2020( Latest available data provided by Zindi )\n",
        "\n"
      ]
    },
    {
      "cell_type": "code",
      "metadata": {
        "id": "VD5tP8zghEup",
        "colab_type": "code",
        "colab": {
          "base_uri": "https://localhost:8080/",
          "height": 0
        },
        "outputId": "f2e75ed9-2bce-46eb-875b-0999fc64754f"
      },
      "source": [
        "# Training dataset imported directly from GitHub Repo\n",
        "\n",
        "df_train = pd.read_csv('https://raw.githubusercontent.com/SiboneloJunior/AI4D-Predict-the-Global-Spread-of-COVID-19/master/Data/train_04_17.csv')\n",
        "df_train.head()"
      ],
      "execution_count": 37,
      "outputs": [
        {
          "output_type": "execute_result",
          "data": {
            "text/html": [
              "<div>\n",
              "<style scoped>\n",
              "    .dataframe tbody tr th:only-of-type {\n",
              "        vertical-align: middle;\n",
              "    }\n",
              "\n",
              "    .dataframe tbody tr th {\n",
              "        vertical-align: top;\n",
              "    }\n",
              "\n",
              "    .dataframe thead th {\n",
              "        text-align: right;\n",
              "    }\n",
              "</style>\n",
              "<table border=\"1\" class=\"dataframe\">\n",
              "  <thead>\n",
              "    <tr style=\"text-align: right;\">\n",
              "      <th></th>\n",
              "      <th>Territory X Date</th>\n",
              "      <th>target</th>\n",
              "      <th>cases</th>\n",
              "      <th>Territory</th>\n",
              "      <th>Date</th>\n",
              "    </tr>\n",
              "  </thead>\n",
              "  <tbody>\n",
              "    <tr>\n",
              "      <th>0</th>\n",
              "      <td>Afghanistan X 1/22/20</td>\n",
              "      <td>0</td>\n",
              "      <td>0</td>\n",
              "      <td>Afghanistan</td>\n",
              "      <td>1/22/20</td>\n",
              "    </tr>\n",
              "    <tr>\n",
              "      <th>1</th>\n",
              "      <td>Afghanistan X 1/23/20</td>\n",
              "      <td>0</td>\n",
              "      <td>0</td>\n",
              "      <td>Afghanistan</td>\n",
              "      <td>1/23/20</td>\n",
              "    </tr>\n",
              "    <tr>\n",
              "      <th>2</th>\n",
              "      <td>Afghanistan X 1/24/20</td>\n",
              "      <td>0</td>\n",
              "      <td>0</td>\n",
              "      <td>Afghanistan</td>\n",
              "      <td>1/24/20</td>\n",
              "    </tr>\n",
              "    <tr>\n",
              "      <th>3</th>\n",
              "      <td>Afghanistan X 1/25/20</td>\n",
              "      <td>0</td>\n",
              "      <td>0</td>\n",
              "      <td>Afghanistan</td>\n",
              "      <td>1/25/20</td>\n",
              "    </tr>\n",
              "    <tr>\n",
              "      <th>4</th>\n",
              "      <td>Afghanistan X 1/26/20</td>\n",
              "      <td>0</td>\n",
              "      <td>0</td>\n",
              "      <td>Afghanistan</td>\n",
              "      <td>1/26/20</td>\n",
              "    </tr>\n",
              "  </tbody>\n",
              "</table>\n",
              "</div>"
            ],
            "text/plain": [
              "        Territory X Date  target  cases    Territory     Date\n",
              "0  Afghanistan X 1/22/20       0      0  Afghanistan  1/22/20\n",
              "1  Afghanistan X 1/23/20       0      0  Afghanistan  1/23/20\n",
              "2  Afghanistan X 1/24/20       0      0  Afghanistan  1/24/20\n",
              "3  Afghanistan X 1/25/20       0      0  Afghanistan  1/25/20\n",
              "4  Afghanistan X 1/26/20       0      0  Afghanistan  1/26/20"
            ]
          },
          "metadata": {
            "tags": []
          },
          "execution_count": 37
        }
      ]
    },
    {
      "cell_type": "markdown",
      "metadata": {
        "id": "TQhtQSXlhEux",
        "colab_type": "text"
      },
      "source": [
        "# Pre-Processing\n",
        "\n",
        "Step by Step Process\n",
        "\n",
        "*   Remove rows where Cases == 0\n",
        "   - The Slow exponential start is thus avoided , and a Linear model can be reasonably fit\n",
        "\n",
        "\n",
        "*   Convert Date into Day Count from First Case\n",
        "*   Append Day count to original dataframe"
      ]
    },
    {
      "cell_type": "code",
      "metadata": {
        "id": "4GIH76uohEuy",
        "colab_type": "code",
        "colab": {}
      },
      "source": [
        "# Remove all cases == 0\n",
        "\n",
        "no_zeros = df_train.drop_duplicates(\n",
        "            subset=['cases', 'Territory'], keep= 'first')"
      ],
      "execution_count": 0,
      "outputs": []
    },
    {
      "cell_type": "code",
      "metadata": {
        "id": "LoeK-toYhEu1",
        "colab_type": "code",
        "colab": {}
      },
      "source": [
        "# Convert Dates into Day count\n",
        "\n",
        "master_day_list = []\n",
        "country_list = sorted(list(set(no_zeros['Territory'])))\n",
        "for country in country_list :\n",
        "\n",
        "    r = no_zeros[no_zeros['Territory'] == country ]\n",
        "    r_dates = list(r['Date'])\n",
        "\n",
        "    y = range(len(r) + 1)\n",
        "    o = list(y)\n",
        "    h = o[1:]\n",
        "    day_list = h\n",
        "    \n",
        "    master_day_list.append(day_list)"
      ],
      "execution_count": 0,
      "outputs": []
    },
    {
      "cell_type": "code",
      "metadata": {
        "id": "ll_24johhEu5",
        "colab_type": "code",
        "colab": {}
      },
      "source": [
        "# Flatten the list\n",
        "\n",
        "flat_list = [item for sublist in master_day_list for item in sublist]"
      ],
      "execution_count": 0,
      "outputs": []
    },
    {
      "cell_type": "code",
      "metadata": {
        "id": "GwBuFXH0hEu9",
        "colab_type": "code",
        "colab": {
          "base_uri": "https://localhost:8080/",
          "height": 0
        },
        "outputId": "d3f9354a-9b8a-4625-e7f0-3abae40da519"
      },
      "source": [
        "# Append the flat list on modified dataframe\n",
        "\n",
        "no_zeros['Day'] = flat_list"
      ],
      "execution_count": 41,
      "outputs": [
        {
          "output_type": "stream",
          "text": [
            "/usr/local/lib/python3.6/dist-packages/ipykernel_launcher.py:3: SettingWithCopyWarning: \n",
            "A value is trying to be set on a copy of a slice from a DataFrame.\n",
            "Try using .loc[row_indexer,col_indexer] = value instead\n",
            "\n",
            "See the caveats in the documentation: https://pandas.pydata.org/pandas-docs/stable/user_guide/indexing.html#returning-a-view-versus-a-copy\n",
            "  This is separate from the ipykernel package so we can avoid doing imports until\n"
          ],
          "name": "stderr"
        }
      ]
    },
    {
      "cell_type": "code",
      "metadata": {
        "id": "lFj6aMSbhEvA",
        "colab_type": "code",
        "colab": {
          "base_uri": "https://localhost:8080/",
          "height": 0
        },
        "outputId": "17f0a7f7-cc46-4d6e-b927-9d9c7fc8bd5e"
      },
      "source": [
        "# Dropping columns not useful for the model\n",
        "\n",
        "df_model = no_zeros\n",
        "df_model = df_model.drop(['Territory X Date', 'Date'], axis=1)\n",
        "df_model.head()"
      ],
      "execution_count": 42,
      "outputs": [
        {
          "output_type": "execute_result",
          "data": {
            "text/html": [
              "<div>\n",
              "<style scoped>\n",
              "    .dataframe tbody tr th:only-of-type {\n",
              "        vertical-align: middle;\n",
              "    }\n",
              "\n",
              "    .dataframe tbody tr th {\n",
              "        vertical-align: top;\n",
              "    }\n",
              "\n",
              "    .dataframe thead th {\n",
              "        text-align: right;\n",
              "    }\n",
              "</style>\n",
              "<table border=\"1\" class=\"dataframe\">\n",
              "  <thead>\n",
              "    <tr style=\"text-align: right;\">\n",
              "      <th></th>\n",
              "      <th>target</th>\n",
              "      <th>cases</th>\n",
              "      <th>Territory</th>\n",
              "      <th>Day</th>\n",
              "    </tr>\n",
              "  </thead>\n",
              "  <tbody>\n",
              "    <tr>\n",
              "      <th>0</th>\n",
              "      <td>0</td>\n",
              "      <td>0</td>\n",
              "      <td>Afghanistan</td>\n",
              "      <td>1</td>\n",
              "    </tr>\n",
              "    <tr>\n",
              "      <th>33</th>\n",
              "      <td>0</td>\n",
              "      <td>1</td>\n",
              "      <td>Afghanistan</td>\n",
              "      <td>2</td>\n",
              "    </tr>\n",
              "    <tr>\n",
              "      <th>46</th>\n",
              "      <td>0</td>\n",
              "      <td>4</td>\n",
              "      <td>Afghanistan</td>\n",
              "      <td>3</td>\n",
              "    </tr>\n",
              "    <tr>\n",
              "      <th>48</th>\n",
              "      <td>0</td>\n",
              "      <td>5</td>\n",
              "      <td>Afghanistan</td>\n",
              "      <td>4</td>\n",
              "    </tr>\n",
              "    <tr>\n",
              "      <th>49</th>\n",
              "      <td>0</td>\n",
              "      <td>7</td>\n",
              "      <td>Afghanistan</td>\n",
              "      <td>5</td>\n",
              "    </tr>\n",
              "  </tbody>\n",
              "</table>\n",
              "</div>"
            ],
            "text/plain": [
              "    target  cases    Territory  Day\n",
              "0        0      0  Afghanistan    1\n",
              "33       0      1  Afghanistan    2\n",
              "46       0      4  Afghanistan    3\n",
              "48       0      5  Afghanistan    4\n",
              "49       0      7  Afghanistan    5"
            ]
          },
          "metadata": {
            "tags": []
          },
          "execution_count": 42
        }
      ]
    },
    {
      "cell_type": "markdown",
      "metadata": {
        "id": "Hb-fOiy7hEvH",
        "colab_type": "text"
      },
      "source": [
        "# Visualisations\n",
        "\n",
        "\n",
        "\n",
        "*   Plots to understand the general behaivour ( Done only for Belgium)\n",
        "*   The benefits of removing cases == 0  is now evident and  Linear Model can be fit\n",
        "\n",
        "\n",
        "\n",
        "\n"
      ]
    },
    {
      "cell_type": "code",
      "metadata": {
        "id": "jGbzSHBJhEvI",
        "colab_type": "code",
        "colab": {
          "base_uri": "https://localhost:8080/",
          "height": 329
        },
        "outputId": "6e430f2f-1789-4243-8980-706733296eb7"
      },
      "source": [
        "# Generate Plot\n",
        "\n",
        "df_plot = df_model[df_model['Territory'] == 'Belgium']\n",
        "x = list(df_plot['Day'])\n",
        "y = list(df_plot['cases'])\n",
        "y1 = np.log(list(df_plot['cases']))\n",
        "plt.plot(x,y1)\n",
        "plt.xlabel('Day Count')\n",
        "plt.ylabel('Cases')\n",
        "plt.title('Confirmed Cases From 1st Case')\n",
        "plt.show()"
      ],
      "execution_count": 43,
      "outputs": [
        {
          "output_type": "stream",
          "text": [
            "/usr/local/lib/python3.6/dist-packages/ipykernel_launcher.py:6: RuntimeWarning: divide by zero encountered in log\n",
            "  \n"
          ],
          "name": "stderr"
        },
        {
          "output_type": "display_data",
          "data": {
            "image/png": "[encoded data removed]",
            "text/plain": [
              "<Figure size 432x288 with 1 Axes>"
            ]
          },
          "metadata": {
            "tags": [],
            "needs_background": "light"
          }
        }
      ]
    },
    {
      "cell_type": "markdown",
      "metadata": {
        "id": "QJRqfVWRhEvL",
        "colab_type": "text"
      },
      "source": [
        "# Model Building\n",
        "\n",
        "Step by Step Process\n",
        "\n",
        "\n",
        "\n",
        "*   Create Country list\n",
        "*   Fit Linear model to 'Day Count' & 'Cases'\n",
        "  - This will produce Linear Coefficients to be utilised later\n",
        "  - General equation is y = ax\n",
        "\n",
        "*   Map the Coefficients to the original dataframe\n",
        "*   Fit Linear model to to produce Coefficients and y-intercept for the target variable \n",
        "    - X_features > Day count + Cases\n",
        "    - y > Target\n",
        "    - General equation is y = ax + bx + c\n",
        "\n",
        "Note : First Linear fit will have one coefficient per country ( Linear_vars ) , and Second fit will have two coefficients + Intercept per country ( Linear_vars_2 )\n",
        "\n",
        "See dataframes below\n",
        "\n",
        "\n",
        "\n",
        "\n",
        "\n"
      ]
    },
    {
      "cell_type": "code",
      "metadata": {
        "id": "5XDfkSFdhEvM",
        "colab_type": "code",
        "colab": {}
      },
      "source": [
        "# Create Country list\n",
        "\n",
        "country_list = list(set(df_model['Territory']))"
      ],
      "execution_count": 0,
      "outputs": []
    },
    {
      "cell_type": "code",
      "metadata": {
        "id": "6PyQpAI2hEvP",
        "colab_type": "code",
        "colab": {}
      },
      "source": [
        "# linear regression - generate coefficients\n",
        "\n",
        "linear_var = []\n",
        "\n",
        "for country in country_list :\n",
        "    df_country = df_model[df_model['Territory']==country]         \n",
        "    x_data = np.array(df_country['Day']).reshape(-1,1)\n",
        "    y_data = np.array(df_country['cases'])\n",
        "    \n",
        "    L = LinearRegression()\n",
        "    L.fit(x_data, y_data)\n",
        "\n",
        "    Coeff = L.coef_\n",
        "    linear_var.append(Coeff)    "
      ],
      "execution_count": 0,
      "outputs": []
    },
    {
      "cell_type": "code",
      "metadata": {
        "id": "CTAOSHGysRyg",
        "colab_type": "code",
        "colab": {}
      },
      "source": [
        "# Creating dictionaries for mapping                    \n",
        "\n",
        "linear_dict = dict(zip(country_list, linear_var))"
      ],
      "execution_count": 0,
      "outputs": []
    },
    {
      "cell_type": "code",
      "metadata": {
        "id": "8dyQ6ldvhEvZ",
        "colab_type": "code",
        "colab": {}
      },
      "source": [
        "# Append Linear variables to original dataset\n",
        "\n",
        "df_linear = df_model.copy()\n",
        "df_linear['linear_vars'] = df_linear['Territory'].map(linear_dict) "
      ],
      "execution_count": 0,
      "outputs": []
    },
    {
      "cell_type": "code",
      "metadata": {
        "id": "PfekX99phEve",
        "colab_type": "code",
        "colab": {
          "base_uri": "https://localhost:8080/",
          "height": 204
        },
        "outputId": "80b7cc98-9c87-428a-f678-26666f73d251"
      },
      "source": [
        "df_linear.head()"
      ],
      "execution_count": 48,
      "outputs": [
        {
          "output_type": "execute_result",
          "data": {
            "text/html": [
              "<div>\n",
              "<style scoped>\n",
              "    .dataframe tbody tr th:only-of-type {\n",
              "        vertical-align: middle;\n",
              "    }\n",
              "\n",
              "    .dataframe tbody tr th {\n",
              "        vertical-align: top;\n",
              "    }\n",
              "\n",
              "    .dataframe thead th {\n",
              "        text-align: right;\n",
              "    }\n",
              "</style>\n",
              "<table border=\"1\" class=\"dataframe\">\n",
              "  <thead>\n",
              "    <tr style=\"text-align: right;\">\n",
              "      <th></th>\n",
              "      <th>target</th>\n",
              "      <th>cases</th>\n",
              "      <th>Territory</th>\n",
              "      <th>Day</th>\n",
              "      <th>linear_vars</th>\n",
              "    </tr>\n",
              "  </thead>\n",
              "  <tbody>\n",
              "    <tr>\n",
              "      <th>0</th>\n",
              "      <td>0</td>\n",
              "      <td>0</td>\n",
              "      <td>Afghanistan</td>\n",
              "      <td>1</td>\n",
              "      <td>[25.791316526610643]</td>\n",
              "    </tr>\n",
              "    <tr>\n",
              "      <th>33</th>\n",
              "      <td>0</td>\n",
              "      <td>1</td>\n",
              "      <td>Afghanistan</td>\n",
              "      <td>2</td>\n",
              "      <td>[25.791316526610643]</td>\n",
              "    </tr>\n",
              "    <tr>\n",
              "      <th>46</th>\n",
              "      <td>0</td>\n",
              "      <td>4</td>\n",
              "      <td>Afghanistan</td>\n",
              "      <td>3</td>\n",
              "      <td>[25.791316526610643]</td>\n",
              "    </tr>\n",
              "    <tr>\n",
              "      <th>48</th>\n",
              "      <td>0</td>\n",
              "      <td>5</td>\n",
              "      <td>Afghanistan</td>\n",
              "      <td>4</td>\n",
              "      <td>[25.791316526610643]</td>\n",
              "    </tr>\n",
              "    <tr>\n",
              "      <th>49</th>\n",
              "      <td>0</td>\n",
              "      <td>7</td>\n",
              "      <td>Afghanistan</td>\n",
              "      <td>5</td>\n",
              "      <td>[25.791316526610643]</td>\n",
              "    </tr>\n",
              "  </tbody>\n",
              "</table>\n",
              "</div>"
            ],
            "text/plain": [
              "    target  cases    Territory  Day           linear_vars\n",
              "0        0      0  Afghanistan    1  [25.791316526610643]\n",
              "33       0      1  Afghanistan    2  [25.791316526610643]\n",
              "46       0      4  Afghanistan    3  [25.791316526610643]\n",
              "48       0      5  Afghanistan    4  [25.791316526610643]\n",
              "49       0      7  Afghanistan    5  [25.791316526610643]"
            ]
          },
          "metadata": {
            "tags": []
          },
          "execution_count": 48
        }
      ]
    },
    {
      "cell_type": "code",
      "metadata": {
        "id": "qJJc9qPQhEvr",
        "colab_type": "code",
        "colab": {}
      },
      "source": [
        "# Fit Original Cases and Target variable to a Linear model \n",
        "# Save coefficients and intercepts of the model\n",
        "\n",
        "coeff_list_linear = []\n",
        "intercept_list_linear = []\n",
        "country_list = list(set(df_linear['Territory']))\n",
        "\n",
        "for the_country in country_list :\n",
        "    df_cc = df_linear[df_linear['Territory'] == the_country ]\n",
        "    df_cb = df_cc.drop(['Territory', 'linear_vars'], axis=1)\n",
        "\n",
        "    X = df_cb.drop('target', axis = 1).values\n",
        "    y = df_cb['target']\n",
        "\n",
        "    L = LinearRegression()\n",
        "    L.fit(X, y)\n",
        "\n",
        "    Coeff = L.coef_\n",
        "    coeff_list_linear.append(Coeff)\n",
        "\n",
        "    intercept = L.intercept_\n",
        "    intercept_list_linear.append(intercept)                              "
      ],
      "execution_count": 0,
      "outputs": []
    },
    {
      "cell_type": "code",
      "metadata": {
        "id": "6ejlehUkhEvx",
        "colab_type": "code",
        "colab": {}
      },
      "source": [
        "# Creating dictionaries for mapping                    \n",
        "\n",
        "coeff_dict_linear = dict(zip(country_list, coeff_list_linear))\n",
        "intercept_dict_linear = dict(zip(country_list,intercept_list_linear ))"
      ],
      "execution_count": 0,
      "outputs": []
    },
    {
      "cell_type": "code",
      "metadata": {
        "id": "W6C5HDM6qmkr",
        "colab_type": "code",
        "colab": {
          "base_uri": "https://localhost:8080/",
          "height": 204
        },
        "outputId": "ae6d73ff-2816-4472-d5d7-f23deb4a195e"
      },
      "source": [
        "# Visualise th dataframe with new generated columns\n",
        "\n",
        "df_linear['linear_vars_2'] = df_linear['Territory'].map(coeff_dict_linear)\n",
        "df_linear['intercepts'] = df_linear['Territory'].map(intercept_dict_linear)\n",
        "df_linear.head()"
      ],
      "execution_count": 51,
      "outputs": [
        {
          "output_type": "execute_result",
          "data": {
            "text/html": [
              "<div>\n",
              "<style scoped>\n",
              "    .dataframe tbody tr th:only-of-type {\n",
              "        vertical-align: middle;\n",
              "    }\n",
              "\n",
              "    .dataframe tbody tr th {\n",
              "        vertical-align: top;\n",
              "    }\n",
              "\n",
              "    .dataframe thead th {\n",
              "        text-align: right;\n",
              "    }\n",
              "</style>\n",
              "<table border=\"1\" class=\"dataframe\">\n",
              "  <thead>\n",
              "    <tr style=\"text-align: right;\">\n",
              "      <th></th>\n",
              "      <th>target</th>\n",
              "      <th>cases</th>\n",
              "      <th>Territory</th>\n",
              "      <th>Day</th>\n",
              "      <th>linear_vars</th>\n",
              "      <th>linear_vars_2</th>\n",
              "      <th>intercepts</th>\n",
              "    </tr>\n",
              "  </thead>\n",
              "  <tbody>\n",
              "    <tr>\n",
              "      <th>0</th>\n",
              "      <td>0</td>\n",
              "      <td>0</td>\n",
              "      <td>Afghanistan</td>\n",
              "      <td>1</td>\n",
              "      <td>[25.791316526610643]</td>\n",
              "      <td>[0.04036279490419757, -0.20935695820840075]</td>\n",
              "      <td>0.780753</td>\n",
              "    </tr>\n",
              "    <tr>\n",
              "      <th>33</th>\n",
              "      <td>0</td>\n",
              "      <td>1</td>\n",
              "      <td>Afghanistan</td>\n",
              "      <td>2</td>\n",
              "      <td>[25.791316526610643]</td>\n",
              "      <td>[0.04036279490419757, -0.20935695820840075]</td>\n",
              "      <td>0.780753</td>\n",
              "    </tr>\n",
              "    <tr>\n",
              "      <th>46</th>\n",
              "      <td>0</td>\n",
              "      <td>4</td>\n",
              "      <td>Afghanistan</td>\n",
              "      <td>3</td>\n",
              "      <td>[25.791316526610643]</td>\n",
              "      <td>[0.04036279490419757, -0.20935695820840075]</td>\n",
              "      <td>0.780753</td>\n",
              "    </tr>\n",
              "    <tr>\n",
              "      <th>48</th>\n",
              "      <td>0</td>\n",
              "      <td>5</td>\n",
              "      <td>Afghanistan</td>\n",
              "      <td>4</td>\n",
              "      <td>[25.791316526610643]</td>\n",
              "      <td>[0.04036279490419757, -0.20935695820840075]</td>\n",
              "      <td>0.780753</td>\n",
              "    </tr>\n",
              "    <tr>\n",
              "      <th>49</th>\n",
              "      <td>0</td>\n",
              "      <td>7</td>\n",
              "      <td>Afghanistan</td>\n",
              "      <td>5</td>\n",
              "      <td>[25.791316526610643]</td>\n",
              "      <td>[0.04036279490419757, -0.20935695820840075]</td>\n",
              "      <td>0.780753</td>\n",
              "    </tr>\n",
              "  </tbody>\n",
              "</table>\n",
              "</div>"
            ],
            "text/plain": [
              "    target  cases  ...                                linear_vars_2  intercepts\n",
              "0        0      0  ...  [0.04036279490419757, -0.20935695820840075]    0.780753\n",
              "33       0      1  ...  [0.04036279490419757, -0.20935695820840075]    0.780753\n",
              "46       0      4  ...  [0.04036279490419757, -0.20935695820840075]    0.780753\n",
              "48       0      5  ...  [0.04036279490419757, -0.20935695820840075]    0.780753\n",
              "49       0      7  ...  [0.04036279490419757, -0.20935695820840075]    0.780753\n",
              "\n",
              "[5 rows x 7 columns]"
            ]
          },
          "metadata": {
            "tags": []
          },
          "execution_count": 51
        }
      ]
    },
    {
      "cell_type": "markdown",
      "metadata": {
        "id": "Re5D1xCjhEv8",
        "colab_type": "text"
      },
      "source": [
        "# Preparing submission file\n",
        "\n",
        "Step by Step Process\n",
        "\n",
        "*   Importing and Pre-Processing the submission file\n",
        "*   Append Linear_vars ( Generated from Train ) to the data\n",
        "    - This will make it possible to predict the Cases till June , Using Day Count + Coefficients in a linear model\n",
        "\n",
        "*   Append Linear_vars_2 to the data\n",
        "    - Using the cases we just calculated + Coefficients and intercepts of Linear_var_2 , The target variable is predicted\n",
        "*   Closing Pre-processing is done to get the CSV file in the format required to make a valid Zindi submission\n",
        "\n",
        "\n",
        "\n",
        "\n",
        "\n",
        "\n"
      ]
    },
    {
      "cell_type": "code",
      "metadata": {
        "id": "Lwasc8xthEv9",
        "colab_type": "code",
        "colab": {
          "base_uri": "https://localhost:8080/",
          "height": 204
        },
        "outputId": "386c4702-06ef-4adc-befd-5a5ff76f2915"
      },
      "source": [
        "# Quick pre-processing\n",
        "# Getting Territory and Date from 'Territory X Date'\n",
        "\n",
        "df_sub = pd.read_csv('https://raw.githubusercontent.com/SiboneloJunior/AI4D-Predict-the-Global-Spread-of-COVID-19/master/Data/SampleSubmission.csv')\n",
        "df_sub['Territory'] = df_sub[\n",
        "                      'Territory X Date'].apply(lambda x: x.split(' X ')[0])\n",
        "df_sub['Date'] = df_sub['Territory X Date'].apply(lambda x: x.split(' X ')[1])\n",
        "df_sub.head()"
      ],
      "execution_count": 52,
      "outputs": [
        {
          "output_type": "execute_result",
          "data": {
            "text/html": [
              "<div>\n",
              "<style scoped>\n",
              "    .dataframe tbody tr th:only-of-type {\n",
              "        vertical-align: middle;\n",
              "    }\n",
              "\n",
              "    .dataframe tbody tr th {\n",
              "        vertical-align: top;\n",
              "    }\n",
              "\n",
              "    .dataframe thead th {\n",
              "        text-align: right;\n",
              "    }\n",
              "</style>\n",
              "<table border=\"1\" class=\"dataframe\">\n",
              "  <thead>\n",
              "    <tr style=\"text-align: right;\">\n",
              "      <th></th>\n",
              "      <th>Territory X Date</th>\n",
              "      <th>target</th>\n",
              "      <th>Territory</th>\n",
              "      <th>Date</th>\n",
              "    </tr>\n",
              "  </thead>\n",
              "  <tbody>\n",
              "    <tr>\n",
              "      <th>0</th>\n",
              "      <td>Afghanistan X 03/06/20</td>\n",
              "      <td>0</td>\n",
              "      <td>Afghanistan</td>\n",
              "      <td>03/06/20</td>\n",
              "    </tr>\n",
              "    <tr>\n",
              "      <th>1</th>\n",
              "      <td>Afghanistan X 03/07/20</td>\n",
              "      <td>0</td>\n",
              "      <td>Afghanistan</td>\n",
              "      <td>03/07/20</td>\n",
              "    </tr>\n",
              "    <tr>\n",
              "      <th>2</th>\n",
              "      <td>Afghanistan X 03/08/20</td>\n",
              "      <td>0</td>\n",
              "      <td>Afghanistan</td>\n",
              "      <td>03/08/20</td>\n",
              "    </tr>\n",
              "    <tr>\n",
              "      <th>3</th>\n",
              "      <td>Afghanistan X 03/09/20</td>\n",
              "      <td>0</td>\n",
              "      <td>Afghanistan</td>\n",
              "      <td>03/09/20</td>\n",
              "    </tr>\n",
              "    <tr>\n",
              "      <th>4</th>\n",
              "      <td>Afghanistan X 03/10/20</td>\n",
              "      <td>0</td>\n",
              "      <td>Afghanistan</td>\n",
              "      <td>03/10/20</td>\n",
              "    </tr>\n",
              "  </tbody>\n",
              "</table>\n",
              "</div>"
            ],
            "text/plain": [
              "         Territory X Date  target    Territory      Date\n",
              "0  Afghanistan X 03/06/20       0  Afghanistan  03/06/20\n",
              "1  Afghanistan X 03/07/20       0  Afghanistan  03/07/20\n",
              "2  Afghanistan X 03/08/20       0  Afghanistan  03/08/20\n",
              "3  Afghanistan X 03/09/20       0  Afghanistan  03/09/20\n",
              "4  Afghanistan X 03/10/20       0  Afghanistan  03/10/20"
            ]
          },
          "metadata": {
            "tags": []
          },
          "execution_count": 52
        }
      ]
    },
    {
      "cell_type": "code",
      "metadata": {
        "id": "P18PZujfhEwC",
        "colab_type": "code",
        "colab": {
          "base_uri": "https://localhost:8080/",
          "height": 204
        },
        "outputId": "96673d12-7713-4fa6-c307-10ddd12fd7cc"
      },
      "source": [
        "# Converting the Date into Day count\n",
        "\n",
        "r = df_sub[df_sub['Territory'] == 'Afghanistan']\n",
        "r_dates = list(r['Date'])\n",
        "\n",
        "y = range(95)\n",
        "o = list(y)\n",
        "h = o[1:]\n",
        "day_list = h\n",
        "\n",
        "day_dict = dict(zip(r_dates, day_list))\n",
        "\n",
        "df_sub['Day'] = df_sub['Date'].map(day_dict)\n",
        "df_sub.head()"
      ],
      "execution_count": 53,
      "outputs": [
        {
          "output_type": "execute_result",
          "data": {
            "text/html": [
              "<div>\n",
              "<style scoped>\n",
              "    .dataframe tbody tr th:only-of-type {\n",
              "        vertical-align: middle;\n",
              "    }\n",
              "\n",
              "    .dataframe tbody tr th {\n",
              "        vertical-align: top;\n",
              "    }\n",
              "\n",
              "    .dataframe thead th {\n",
              "        text-align: right;\n",
              "    }\n",
              "</style>\n",
              "<table border=\"1\" class=\"dataframe\">\n",
              "  <thead>\n",
              "    <tr style=\"text-align: right;\">\n",
              "      <th></th>\n",
              "      <th>Territory X Date</th>\n",
              "      <th>target</th>\n",
              "      <th>Territory</th>\n",
              "      <th>Date</th>\n",
              "      <th>Day</th>\n",
              "    </tr>\n",
              "  </thead>\n",
              "  <tbody>\n",
              "    <tr>\n",
              "      <th>0</th>\n",
              "      <td>Afghanistan X 03/06/20</td>\n",
              "      <td>0</td>\n",
              "      <td>Afghanistan</td>\n",
              "      <td>03/06/20</td>\n",
              "      <td>1</td>\n",
              "    </tr>\n",
              "    <tr>\n",
              "      <th>1</th>\n",
              "      <td>Afghanistan X 03/07/20</td>\n",
              "      <td>0</td>\n",
              "      <td>Afghanistan</td>\n",
              "      <td>03/07/20</td>\n",
              "      <td>2</td>\n",
              "    </tr>\n",
              "    <tr>\n",
              "      <th>2</th>\n",
              "      <td>Afghanistan X 03/08/20</td>\n",
              "      <td>0</td>\n",
              "      <td>Afghanistan</td>\n",
              "      <td>03/08/20</td>\n",
              "      <td>3</td>\n",
              "    </tr>\n",
              "    <tr>\n",
              "      <th>3</th>\n",
              "      <td>Afghanistan X 03/09/20</td>\n",
              "      <td>0</td>\n",
              "      <td>Afghanistan</td>\n",
              "      <td>03/09/20</td>\n",
              "      <td>4</td>\n",
              "    </tr>\n",
              "    <tr>\n",
              "      <th>4</th>\n",
              "      <td>Afghanistan X 03/10/20</td>\n",
              "      <td>0</td>\n",
              "      <td>Afghanistan</td>\n",
              "      <td>03/10/20</td>\n",
              "      <td>5</td>\n",
              "    </tr>\n",
              "  </tbody>\n",
              "</table>\n",
              "</div>"
            ],
            "text/plain": [
              "         Territory X Date  target    Territory      Date  Day\n",
              "0  Afghanistan X 03/06/20       0  Afghanistan  03/06/20    1\n",
              "1  Afghanistan X 03/07/20       0  Afghanistan  03/07/20    2\n",
              "2  Afghanistan X 03/08/20       0  Afghanistan  03/08/20    3\n",
              "3  Afghanistan X 03/09/20       0  Afghanistan  03/09/20    4\n",
              "4  Afghanistan X 03/10/20       0  Afghanistan  03/10/20    5"
            ]
          },
          "metadata": {
            "tags": []
          },
          "execution_count": 53
        }
      ]
    },
    {
      "cell_type": "code",
      "metadata": {
        "id": "Qzp2wmhuhEwG",
        "colab_type": "code",
        "colab": {}
      },
      "source": [
        "# Append linear coefficients for each country ( Linear_vars )\n",
        "\n",
        "df_sub['linear_vars'] = df_sub['Territory'].map(linear_dict)"
      ],
      "execution_count": 0,
      "outputs": []
    },
    {
      "cell_type": "code",
      "metadata": {
        "id": "g75riM6KhEwK",
        "colab_type": "code",
        "colab": {}
      },
      "source": [
        "# Predict cases using co-efficients generated from the train data\n",
        "\n",
        "\n",
        "day = list(df_sub['Day'])\n",
        "all_vars = list(df_sub['linear_vars'])\n",
        "predictions_cases_lower = []\n",
        "count_day = 0\n",
        "\n",
        "for var in all_vars :\n",
        "    a = var[0]\n",
        "    pred_cases = a*day[count_day]\n",
        "    predictions_cases_lower.append(pred_cases)\n",
        "    count_day = count_day + 1"
      ],
      "execution_count": 0,
      "outputs": []
    },
    {
      "cell_type": "code",
      "metadata": {
        "id": "s96rQb7RhEwO",
        "colab_type": "code",
        "colab": {}
      },
      "source": [
        "# Map the predictions of Re-predicted cases to the latest dataframe\n",
        "\n",
        "df_sub['predictions_cases'] = predictions_cases_lower"
      ],
      "execution_count": 0,
      "outputs": []
    },
    {
      "cell_type": "code",
      "metadata": {
        "id": "rljae4izhEwR",
        "colab_type": "code",
        "colab": {}
      },
      "source": [
        "# Map Linear_var_2 coefficients generated from training dataset\n",
        "\n",
        "df_sub['coeff'] = df_sub['Territory'].map(coeff_dict_linear)\n",
        "df_sub['intercept'] = df_sub['Territory'].map(intercept_dict_linear)"
      ],
      "execution_count": 0,
      "outputs": []
    },
    {
      "cell_type": "code",
      "metadata": {
        "id": "5WokDh7vhEwV",
        "colab_type": "code",
        "colab": {}
      },
      "source": [
        "# Predicting the target till june\n",
        "# Using Predicted Cases & Coefficients\n",
        "\n",
        "pred_target_lower = []\n",
        "day = list(df_sub['Day'])\n",
        "list_pred_cases = list(df_sub['predictions_cases'])\n",
        "list_coeff = list(df_sub['coeff'])\n",
        "list_intercept = list(df_sub['intercept'])\n",
        "another_count = 0\n",
        "\n",
        "for inter in list_intercept :\n",
        "    y_coeff = list_coeff[another_count]\n",
        "    predictions_target = inter + ( y_coeff[0]* list_pred_cases[another_count]\n",
        "                                  ) + (y_coeff[1] * day[another_count])\n",
        "    pred_target_lower.append(predictions_target)\n",
        "    another_count = another_count + 1"
      ],
      "execution_count": 0,
      "outputs": []
    },
    {
      "cell_type": "code",
      "metadata": {
        "id": "DRFj87athEwa",
        "colab_type": "code",
        "colab": {
          "base_uri": "https://localhost:8080/",
          "height": 306
        },
        "outputId": "bf0bb3d5-7d99-4a35-d7f9-fd173f09b690"
      },
      "source": [
        "# Populate target variable with values ( Making Prediction)\n",
        "\n",
        "df_sub['target'] = pred_target_lower\n",
        "df_sub.head()"
      ],
      "execution_count": 59,
      "outputs": [
        {
          "output_type": "execute_result",
          "data": {
            "text/html": [
              "<div>\n",
              "<style scoped>\n",
              "    .dataframe tbody tr th:only-of-type {\n",
              "        vertical-align: middle;\n",
              "    }\n",
              "\n",
              "    .dataframe tbody tr th {\n",
              "        vertical-align: top;\n",
              "    }\n",
              "\n",
              "    .dataframe thead th {\n",
              "        text-align: right;\n",
              "    }\n",
              "</style>\n",
              "<table border=\"1\" class=\"dataframe\">\n",
              "  <thead>\n",
              "    <tr style=\"text-align: right;\">\n",
              "      <th></th>\n",
              "      <th>Territory X Date</th>\n",
              "      <th>target</th>\n",
              "      <th>Territory</th>\n",
              "      <th>Date</th>\n",
              "      <th>Day</th>\n",
              "      <th>linear_vars</th>\n",
              "      <th>predictions_cases</th>\n",
              "      <th>coeff</th>\n",
              "      <th>intercept</th>\n",
              "    </tr>\n",
              "  </thead>\n",
              "  <tbody>\n",
              "    <tr>\n",
              "      <th>0</th>\n",
              "      <td>Afghanistan X 03/06/20</td>\n",
              "      <td>1.612405</td>\n",
              "      <td>Afghanistan</td>\n",
              "      <td>03/06/20</td>\n",
              "      <td>1</td>\n",
              "      <td>[25.791316526610643]</td>\n",
              "      <td>25.791317</td>\n",
              "      <td>[0.04036279490419757, -0.20935695820840075]</td>\n",
              "      <td>0.780753</td>\n",
              "    </tr>\n",
              "    <tr>\n",
              "      <th>1</th>\n",
              "      <td>Afghanistan X 03/07/20</td>\n",
              "      <td>2.444058</td>\n",
              "      <td>Afghanistan</td>\n",
              "      <td>03/07/20</td>\n",
              "      <td>2</td>\n",
              "      <td>[25.791316526610643]</td>\n",
              "      <td>51.582633</td>\n",
              "      <td>[0.04036279490419757, -0.20935695820840075]</td>\n",
              "      <td>0.780753</td>\n",
              "    </tr>\n",
              "    <tr>\n",
              "      <th>2</th>\n",
              "      <td>Afghanistan X 03/08/20</td>\n",
              "      <td>3.275711</td>\n",
              "      <td>Afghanistan</td>\n",
              "      <td>03/08/20</td>\n",
              "      <td>3</td>\n",
              "      <td>[25.791316526610643]</td>\n",
              "      <td>77.373950</td>\n",
              "      <td>[0.04036279490419757, -0.20935695820840075]</td>\n",
              "      <td>0.780753</td>\n",
              "    </tr>\n",
              "    <tr>\n",
              "      <th>3</th>\n",
              "      <td>Afghanistan X 03/09/20</td>\n",
              "      <td>4.107363</td>\n",
              "      <td>Afghanistan</td>\n",
              "      <td>03/09/20</td>\n",
              "      <td>4</td>\n",
              "      <td>[25.791316526610643]</td>\n",
              "      <td>103.165266</td>\n",
              "      <td>[0.04036279490419757, -0.20935695820840075]</td>\n",
              "      <td>0.780753</td>\n",
              "    </tr>\n",
              "    <tr>\n",
              "      <th>4</th>\n",
              "      <td>Afghanistan X 03/10/20</td>\n",
              "      <td>4.939016</td>\n",
              "      <td>Afghanistan</td>\n",
              "      <td>03/10/20</td>\n",
              "      <td>5</td>\n",
              "      <td>[25.791316526610643]</td>\n",
              "      <td>128.956583</td>\n",
              "      <td>[0.04036279490419757, -0.20935695820840075]</td>\n",
              "      <td>0.780753</td>\n",
              "    </tr>\n",
              "  </tbody>\n",
              "</table>\n",
              "</div>"
            ],
            "text/plain": [
              "         Territory X Date  ...  intercept\n",
              "0  Afghanistan X 03/06/20  ...   0.780753\n",
              "1  Afghanistan X 03/07/20  ...   0.780753\n",
              "2  Afghanistan X 03/08/20  ...   0.780753\n",
              "3  Afghanistan X 03/09/20  ...   0.780753\n",
              "4  Afghanistan X 03/10/20  ...   0.780753\n",
              "\n",
              "[5 rows x 9 columns]"
            ]
          },
          "metadata": {
            "tags": []
          },
          "execution_count": 59
        }
      ]
    },
    {
      "cell_type": "code",
      "metadata": {
        "id": "Kj5abRF2hEwe",
        "colab_type": "code",
        "colab": {}
      },
      "source": [
        "# Remove leading zero's from the date column\n",
        "# Inline with Zindi submission\n",
        "\n",
        "new_dates = []\n",
        "date = list(df_sub['Date'])\n",
        "leading_removed = [s.lstrip(\"0\") for s in date]\n",
        "for i in leading_removed :\n",
        "    t = i[2:4]\n",
        "    if t[0] == '0' :\n",
        "        a = i[0:2] + t[1] + i[4:]\n",
        "        new_dates.append(a)\n",
        "    else :\n",
        "        new_dates.append(i)\n",
        "\n",
        "df_sub['Date'] = new_dates"
      ],
      "execution_count": 0,
      "outputs": []
    },
    {
      "cell_type": "code",
      "metadata": {
        "id": "WFidUz8hhEwi",
        "colab_type": "code",
        "colab": {}
      },
      "source": [
        "# Convert target variable from float to int\n",
        "\n",
        "intergers_list = []\n",
        "floats = list(df_sub['target'])\n",
        "for num in floats :\n",
        "    interger = int(num)\n",
        "    intergers_list.append(interger)\n"
      ],
      "execution_count": 0,
      "outputs": []
    },
    {
      "cell_type": "code",
      "metadata": {
        "id": "afVUU-oMhEwm",
        "colab_type": "code",
        "colab": {}
      },
      "source": [
        "# Create a Dataframe with format Territory X Date\n",
        "\n",
        "df_without_zeros = df_sub['Territory'] + ' X ' + df_sub['Date']"
      ],
      "execution_count": 0,
      "outputs": []
    },
    {
      "cell_type": "code",
      "metadata": {
        "id": "Rvu4fOfJhEwq",
        "colab_type": "code",
        "colab": {}
      },
      "source": [
        "# Replace with date thus omitting leading zero\n",
        "\n",
        "df_sub['Territory X Date'] = df_without_zeros"
      ],
      "execution_count": 0,
      "outputs": []
    },
    {
      "cell_type": "code",
      "metadata": {
        "id": "vTk3FQxihEwx",
        "colab_type": "code",
        "colab": {}
      },
      "source": [
        "# Replace with int type target\n",
        "\n",
        "df_sub['target'] = intergers_list"
      ],
      "execution_count": 0,
      "outputs": []
    },
    {
      "cell_type": "code",
      "metadata": {
        "id": "86if2UjhhEw1",
        "colab_type": "code",
        "colab": {}
      },
      "source": [
        "# Drop all Unused columns\n",
        "\n",
        "df_submission = df_sub.drop(['Territory','Date','Day',\n",
        "                             'linear_vars' ,'predictions_cases',\n",
        "                             'coeff','intercept'], axis=1)"
      ],
      "execution_count": 0,
      "outputs": []
    },
    {
      "cell_type": "code",
      "metadata": {
        "id": "khmgLmTZhEw5",
        "colab_type": "code",
        "colab": {
          "base_uri": "https://localhost:8080/",
          "height": 68
        },
        "outputId": "ee0a754c-2906-4397-f92d-a007b348a813"
      },
      "source": [
        "# Confirm dtypes\n",
        "\n",
        "df_submission.dtypes"
      ],
      "execution_count": 66,
      "outputs": [
        {
          "output_type": "execute_result",
          "data": {
            "text/plain": [
              "Territory X Date    object\n",
              "target               int64\n",
              "dtype: object"
            ]
          },
          "metadata": {
            "tags": []
          },
          "execution_count": 66
        }
      ]
    },
    {
      "cell_type": "code",
      "metadata": {
        "id": "MMiIvPwAxw-h",
        "colab_type": "code",
        "colab": {}
      },
      "source": [
        "# To CSV ( Using Colab )\n",
        "\n",
        "from google.colab import files\n",
        "\n",
        "df_submission.to_csv('modelv2.18.csv' , index = False) \n",
        "files.download('modelv2.18.csv')"
      ],
      "execution_count": 0,
      "outputs": []
    }
  ]
}